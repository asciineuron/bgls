{
 "cells": [
  {
   "cell_type": "markdown",
   "metadata": {},
   "source": [
    "# Using external state representations with BGLS"
   ]
  },
  {
   "cell_type": "markdown",
   "metadata": {},
   "source": [
    "Here we demonstrate creating a simple state vector type representation, and how to interface it with BGLS through bitstring probability and gate application functions."
   ]
  },
  {
   "cell_type": "code",
   "execution_count": 1,
   "metadata": {},
   "outputs": [],
   "source": [
    "import numpy as np\n",
    "import bgls\n",
    "import cirq\n",
    "import matplotlib.pyplot as plt\n",
    "import itertools\n",
    "from typing import List"
   ]
  },
  {
   "cell_type": "code",
   "execution_count": 2,
   "metadata": {},
   "outputs": [],
   "source": [
    "def powerset(iterable):\n",
    "    \"powerset([1,2,3]) --> () (1,) (2,) (3,) (1,2) (1,3) (2,3) (1,2,3)\"\n",
    "    s = list(iterable)\n",
    "    return itertools.chain.from_iterable(itertools.combinations(s, r) for r in range(len(s)+1))\n",
    "\n",
    "def flip_bit(index, bit_to_flip):\n",
    "    return index ^ (1 << bit_to_flip)"
   ]
  },
  {
   "cell_type": "code",
   "execution_count": 5,
   "metadata": {},
   "outputs": [],
   "source": [
    "class StateVecRep:\n",
    "    \"\"\"Simple complex state vector representation, 2^#qubits size. Starts in the 0...0 state\"\"\"\n",
    "    def __init__(self, num_qubits:int):\n",
    "        self.num_qubits = num_qubits\n",
    "        self.vector = np.zeros(2**num_qubits, dtype=complex)\n",
    "        self.vector[0] = 1. + 0.j\n",
    "    \n",
    "    def copy(self):\n",
    "        # returns a copy of this state, leaving this one unaltered\n",
    "        new_state = StateVecRep(self.num_qubits)\n",
    "        new_state.vector = np.copy(self.vector)\n",
    "        return new_state\n",
    "\n",
    "\n",
    "def bitstring_probability(state:StateVecRep, bitstring:str):\n",
    "    rev_bitstr = bitstring[::-1]\n",
    "    return np.abs(state.vector[int(rev_bitstr,2)])**2\n",
    "\n",
    "# helper functions\n",
    "def apply_gate_to_subspace(gate:np.ndarray, state:np.ndarray, indices:np.ndarray):\n",
    "    # gate: 2^qx2^q numpy matrix, complex valued\n",
    "    # state: 2^n numpy array, complex valued\n",
    "    # indices: numpy array, integer valued, should be 2^q items in list\n",
    "    assert(indices.size == gate.shape[1])\n",
    "    subspace = state[indices]\n",
    "    output = gate.dot(subspace)\n",
    "    state[indices] = output\n",
    "\n",
    "def apply_gate(gate:np.ndarray, target_bits:List[int], state:np.ndarray):\n",
    "    # target_bits is a list of q qubit indices the q-bit gate is applied to\n",
    "    n = state.size # for n qubits this is 2**n\n",
    "    q = len(target_bits)\n",
    "    # flag whether we have worked on a given index already\n",
    "    already_applied = np.zeros(n, dtype=int)\n",
    "    for l in range(n):\n",
    "        if already_applied[l]:\n",
    "            continue\n",
    "        subspace_indices = [l]\n",
    "        for combo in powerset(target_bits):\n",
    "            # eg [i0], [i1], [i0, i1], etc., one of these lists\n",
    "            if combo: # ignore the empty element\n",
    "                tempidx = l\n",
    "                for bit in combo:\n",
    "                    tempidx = flip_bit(tempidx, bit)\n",
    "                subspace_indices.append(tempidx)\n",
    "\n",
    "        apply_gate_to_subspace(gate, state, np.asarray(subspace_indices))\n",
    "        for idx in subspace_indices:\n",
    "            already_applied[idx] = 1\n",
    "\n",
    "\n",
    "def apply_cirq_gate(op: cirq.Operation, state:StateVecRep):\n",
    "    gate_matrix = cirq.unitary(op.gate)\n",
    "    gate_indices = []\n",
    "    for qubit in op.qubits:\n",
    "        # x for a line qubit is its number eg LineQubit(3) has 3 qubits, x returns either 0, 1, 2\n",
    "        gate_indices.append(qubit.x)\n",
    "\n",
    "    apply_gate(gate_matrix, gate_indices, state.vector)\n"
   ]
  },
  {
   "cell_type": "code",
   "execution_count": 7,
   "metadata": {},
   "outputs": [
    {
     "data": {
      "image/png": "[encoded data removed]",
      "text/plain": [
       "<Figure size 640x480 with 1 Axes>"
      ]
     },
     "metadata": {},
     "output_type": "display_data"
    }
   ],
   "source": [
    "qubits = cirq.LineQubit.range(3)\n",
    "circuit = cirq.Circuit(\n",
    "        cirq.H.on(qubits[0]),\n",
    "        (cirq.CNOT.on(qubits[i], qubits[i + 1]) for i in range(2)),\n",
    "        cirq.measure(qubits, key=\"z\"),\n",
    "    )\n",
    "\n",
    "sim = bgls.Simulator(initial_state=StateVecRep(3), apply_gate=apply_cirq_gate, compute_probability=bitstring_probability)\n",
    "results = sim.run(circuit, repetitions=1000)\n",
    "_ = cirq.plot_state_histogram(results, plt.subplot())"
   ]
  },
  {
   "cell_type": "code",
   "execution_count": null,
   "metadata": {},
   "outputs": [],
   "source": []
  }
 ],
 "metadata": {
  "kernelspec": {
   "display_name": "quimb_test",
   "language": "python",
   "name": "python3"
  },
  "language_info": {
   "codemirror_mode": {
    "name": "ipython",
    "version": 3
   },
   "file_extension": ".py",
   "mimetype": "text/x-python",
   "name": "python",
   "nbconvert_exporter": "python",
   "pygments_lexer": "ipython3",
   "version": "3.10.0"
  },
  "orig_nbformat": 4
 },
 "nbformat": 4,
 "nbformat_minor": 2
}
