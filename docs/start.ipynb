{
 "cells": [
  {
   "cell_type": "markdown",
   "metadata": {},
   "source": [
    "# Getting started"
   ]
  },
  {
   "cell_type": "markdown",
   "metadata": {},
   "source": [
    "`BGLS` is a Python package that implements the Bravyi, Gosset, and Liu Sampling algorithm presented in *How to simulate quantum measurement without computing marginals ([Phys. Rev. Lett.](https://journals.aps.org/prl/abstract/10.1103/PhysRevLett.128.220503)) ([arXiv](https://arxiv.org/abs/2112.08499))*."
   ]
  },
  {
   "cell_type": "markdown",
   "metadata": {},
   "source": [
    "## Quick start"
   ]
  },
  {
   "cell_type": "markdown",
   "metadata": {},
   "source": [
    "Install `BGLS` via `pip install bgls`. The following example shows how to use the package."
   ]
  },
  {
   "cell_type": "code",
   "execution_count": 1,
   "metadata": {},
   "outputs": [],
   "source": [
    "\"\"\"Setup.\"\"\"\n",
    "import cirq\n",
    "\n",
    "import bgls"
   ]
  },
  {
   "cell_type": "code",
   "execution_count": 2,
   "metadata": {},
   "outputs": [
    {
     "data": {
      "text/html": [
       "<pre style=\"overflow: auto; white-space: pre;\">0: ───H───@───────M(&#x27;z&#x27;)───\n",
       "          │       │\n",
       "1: ───────X───@───M────────\n",
       "              │   │\n",
       "2: ───────────X───M────────</pre>"
      ],
      "text/plain": [
       "0: ───H───@───────M('z')───\n",
       "          │       │\n",
       "1: ───────X───@───M────────\n",
       "              │   │\n",
       "2: ───────────X───M────────"
      ]
     },
     "execution_count": 2,
     "metadata": {},
     "output_type": "execute_result"
    }
   ],
   "source": [
    "\"\"\"Define a circuit.\"\"\"\n",
    "nqubits = 3  # TODO: Change to 2 qubits after https://github.com/asciineuron/bgls/issues/19.\n",
    "qubits = cirq.LineQubit.range(nqubits)\n",
    "circuit = cirq.Circuit(\n",
    "    cirq.H.on(qubits[0]),\n",
    "    cirq.CNOT.on(qubits[0], qubits[1]),\n",
    "    cirq.CNOT.on(qubits[1], qubits[2]),\n",
    "    cirq.measure(*qubits, key=\"z\")\n",
    ")\n",
    "circuit"
   ]
  },
  {
   "cell_type": "code",
   "execution_count": 3,
   "metadata": {},
   "outputs": [
    {
     "name": "stderr",
     "output_type": "stream",
     "text": [
      "/home/ryan/prof/work/bgls/envbgls/lib/python3.10/site-packages/cirq/vis/state_histogram.py:103: UserWarning: Matplotlib is currently using module://matplotlib_inline.backend_inline, which is a non-GUI backend, so cannot show the figure.\n",
      "  fig.show()\n"
     ]
    },
    {
     "data": {
      "image/png": "[encoded data removed]",
      "text/plain": [
       "<Figure size 640x480 with 1 Axes>"
      ]
     },
     "metadata": {},
     "output_type": "display_data"
    }
   ],
   "source": [
    "\"\"\"Use BGLS to simulate the circuit.\"\"\"\n",
    "simulator = bgls.Simulator(\n",
    "    initial_state=cirq.StateVectorSimulationState(qubits=qubits, initial_state=0),\n",
    "    apply_gate=cirq.protocols.act_on,\n",
    "    compute_probability=bgls.utils.cirq_state_vector_bitstring_probability,\n",
    ")\n",
    "results = simulator.run(circuit, repetitions=10)\n",
    "\n",
    "cirq.plot_state_histogram(results);"
   ]
  },
  {
   "cell_type": "markdown",
   "metadata": {},
   "source": [
    "## More detail: How to create a `bgls.Simulator`"
   ]
  },
  {
   "cell_type": "markdown",
   "metadata": {},
   "source": [
    "Notice from the above example that there are three ingredients needed to create a `bgls.Simulator`:\n",
    "\n",
    "1. `initial_state`: The initial quantum state (wavefunction) of the circuit, including what type the wavefunction is (state vector, density matrix, tensor network, etc.).\n",
    "1. `apply_gate`: A function for applying gates to the initial (and intermediate) states.\n",
    "1. `compute_probability`: A function for calculating the probability of sampling a bitstring from the input state type."
   ]
  },
  {
   "cell_type": "markdown",
   "metadata": {},
   "source": [
    "> **Note**: A function to compute marginal distributions, which is used in the typical \"qubit-by-qubit\" sampling algorithm, is not needed. This is the primary purpose of the BGLS \"gate-by-gate\" sampling algorithm: when it is easier to compute probabilities than it is to compute marginal distributions, the BGLS algorithm is advantageous to use. See more on [How BGLS works]() and [When to use BGLS]()."
   ]
  },
  {
   "cell_type": "markdown",
   "metadata": {},
   "source": [
    "Any wavefunction type can be used with `BGLS`. In the example above, we used a `cirq.StateVectorSimulationState` which represents the wavefunction as a state vector."
   ]
  },
  {
   "cell_type": "code",
   "execution_count": 4,
   "metadata": {},
   "outputs": [
    {
     "data": {
      "text/plain": [
       "array([[1.+0.j],\n",
       "       [0.+0.j],\n",
       "       [0.+0.j],\n",
       "       [0.+0.j],\n",
       "       [0.+0.j],\n",
       "       [0.+0.j],\n",
       "       [0.+0.j],\n",
       "       [0.+0.j]], dtype=complex64)"
      ]
     },
     "execution_count": 4,
     "metadata": {},
     "output_type": "execute_result"
    }
   ],
   "source": [
    "\"\"\"Provide a representation of the (initial) wavefunction, here a cirq.StateVectorSimulationState.\"\"\"\n",
    "wavefunction = cirq.StateVectorSimulationState(qubits=qubits, initial_state=0)\n",
    "\n",
    "# Visualize the wavefunction.\n",
    "wavefunction.target_tensor.reshape(2 ** nqubits, 1)"
   ]
  },
  {
   "cell_type": "markdown",
   "metadata": {},
   "source": [
    "Once the state is provided, `BGLS` needs to know how to apply gates to the state. Here, we can do this with `cirq.protocols.act_on`."
   ]
  },
  {
   "cell_type": "code",
   "execution_count": 5,
   "metadata": {},
   "outputs": [
    {
     "data": {
      "text/plain": [
       "array([[ 0.70710677+0.j],\n",
       "       [ 0.        +0.j],\n",
       "       [ 0.        +0.j],\n",
       "       [ 0.        +0.j],\n",
       "       [ 0.70710677+0.j],\n",
       "       [-0.        +0.j],\n",
       "       [-0.        +0.j],\n",
       "       [-0.        +0.j]], dtype=complex64)"
      ]
     },
     "execution_count": 5,
     "metadata": {},
     "output_type": "execute_result"
    }
   ],
   "source": [
    "\"\"\"Define a function for applying operations to the state.\"\"\"\n",
    "from typing import Any\n",
    "\n",
    "\n",
    "def apply_gate(operation: cirq.GateOperation, state: cirq.StateVectorSimulationState) -> None:\n",
    "    cirq.protocols.act_on(operation, state)\n",
    "\n",
    "\n",
    "# Example: Apply operation and visualize the updated wavefunction.\n",
    "apply_gate(cirq.H.on(qubits[0]), wavefunction)\n",
    "wavefunction.target_tensor.reshape(2 ** nqubits, 1)"
   ]
  },
  {
   "cell_type": "markdown",
   "metadata": {},
   "source": [
    "> Note: The `apply_gate` function can modify the `state` in-place (as above) or return a copy."
   ]
  },
  {
   "cell_type": "markdown",
   "metadata": {},
   "source": [
    "Last, `BGLS` needs to know how to compute the probability of sampling a bitstring `z` from the `wavefunction` $|\\psi\\rangle$. Here this is given by $| \\langle z | \\psi \\rangle | ^ 2$ and can be computed via the following function."
   ]
  },
  {
   "cell_type": "code",
   "execution_count": 6,
   "metadata": {},
   "outputs": [
    {
     "name": "stdout",
     "output_type": "stream",
     "text": [
      "Probability of sampling 000 is 0.50\n",
      "Probability of sampling 100 is 0.50\n"
     ]
    }
   ],
   "source": [
    "\"\"\"Define a function for computing the probability of sampling a bitstring.\"\"\"\n",
    "import numpy as np\n",
    "\n",
    "\n",
    "def probability_of_bitstring(\n",
    "    wavefunction: cirq.StateVectorSimulationState,\n",
    "    bitstring: str,\n",
    ") -> float:\n",
    "    return np.abs(cirq.to_valid_state_vector(wavefunction.target_tensor)[int(bitstring, 2)]) ** 2\n",
    "\n",
    "\n",
    "# Example: Calculating some p(z) for some bitstrings z.\n",
    "for bitstring in {\"000\", \"100\"}:\n",
    "    print(f\"Probability of sampling {bitstring} is {probability_of_bitstring(wavefunction, bitstring):.2f}\")"
   ]
  },
  {
   "cell_type": "markdown",
   "metadata": {},
   "source": [
    "> Note: This function is identical to `bgls.utils.cirq_state_vector_bitstring_probability` used in the Quick start example."
   ]
  },
  {
   "cell_type": "markdown",
   "metadata": {},
   "source": [
    "With these three ingredients you can create a `bgls.Simulator` and execute circuits with `bgls.Simulator.run`."
   ]
  },
  {
   "cell_type": "code",
   "execution_count": 7,
   "metadata": {},
   "outputs": [
    {
     "data": {
      "text/plain": [
       "z=0, 0, 0"
      ]
     },
     "execution_count": 7,
     "metadata": {},
     "output_type": "execute_result"
    }
   ],
   "source": [
    "simulator = bgls.Simulator(wavefunction, apply_gate, probability_of_bitstring)\n",
    "\n",
    "simulator.run(circuit)"
   ]
  },
  {
   "cell_type": "markdown",
   "metadata": {},
   "source": [
    "## When to use the `bgls.Simulator`"
   ]
  },
  {
   "cell_type": "markdown",
   "metadata": {},
   "source": [
    "Other than introducing the `bgls.Simulator`, there's (probably) no good reason to use `BGLS` with a statevector simulator as above: the samples can be drawn from the final state just as easily. The power of the `bgls.Simulator` comes in situations where it is easier to compute probabilities than compute marginal distributions - see [When to use `BGLS`]() for more discussion and examples."
   ]
  }
 ],
 "metadata": {
  "kernelspec": {
   "display_name": "envbgls",
   "language": "python",
   "name": "python3"
  },
  "language_info": {
   "codemirror_mode": {
    "name": "ipython",
    "version": 3
   },
   "file_extension": ".py",
   "mimetype": "text/x-python",
   "name": "python",
   "nbconvert_exporter": "python",
   "pygments_lexer": "ipython3",
   "version": "3.10.6"
  },
  "orig_nbformat": 4
 },
 "nbformat": 4,
 "nbformat_minor": 2
}
