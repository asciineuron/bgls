{
 "cells": [
  {
   "cell_type": "markdown",
   "id": "34c7d4ba",
   "metadata": {},
   "source": [
    "# Getting started"
   ]
  },
  {
   "cell_type": "markdown",
   "id": "b02d9e85",
   "metadata": {},
   "source": [
    "BGLS is a Cirq implementation of Bravyi, Gosset, and Liu's algorithm for simulating quantum measurement without computing marginals (https://arxiv.org/abs/2112.08499)."
   ]
  }
 ],
 "metadata": {
  "kernelspec": {
   "display_name": "Python 3 (ipykernel)",
   "language": "python",
   "name": "python3"
  },
  "language_info": {
   "codemirror_mode": {
    "name": "ipython",
    "version": 3
   },
   "file_extension": ".py",
   "mimetype": "text/x-python",
   "name": "python",
   "nbconvert_exporter": "python",
   "pygments_lexer": "ipython3",
   "version": "3.10.8"
  }
 },
 "nbformat": 4,
 "nbformat_minor": 5
}
