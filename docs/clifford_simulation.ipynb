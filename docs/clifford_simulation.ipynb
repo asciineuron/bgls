{
 "cells": [
  {
   "attachments": {},
   "cell_type": "markdown",
   "metadata": {},
   "source": [
    "# Using BGLS on Clifford and near-Clifford circuits"
   ]
  },
  {
   "attachments": {},
   "cell_type": "markdown",
   "metadata": {},
   "source": [
    "Here we will demonstrate how BGLS can be used to simulate sampling from both Clifford circuits, as well as near-Clifford circuits - in particular the Clifford+T universal gate set."
   ]
  },
  {
   "cell_type": "code",
   "execution_count": 1,
   "metadata": {},
   "outputs": [],
   "source": [
    "import numpy as np\n",
    "\n",
    "import cirq\n",
    "\n",
    "import bgls"
   ]
  },
  {
   "attachments": {},
   "cell_type": "markdown",
   "metadata": {},
   "source": [
    "Explicitly, the Clifford group consists of the Hadamard, S, and CNOT gates. We can check that an operation satisfies this criterion via the cirq protocol ```cirq.has_stabilizer_effect(op)```:"
   ]
  },
  {
   "cell_type": "code",
   "execution_count": 2,
   "metadata": {},
   "outputs": [],
   "source": [
    "for gate in [cirq.H, cirq.S, cirq.CNOT]:\n",
    "    assert cirq.has_stabilizer_effect(gate)"
   ]
  },
  {
   "attachments": {},
   "cell_type": "markdown",
   "metadata": {},
   "source": [
    "To efficiently simulate circuits composed from such gates, we can take advantage of stabilizer states. In particular, we make use of the CH-form stabilizer state as introducted in arxiv:1808.00128. This additionally tracks an overall phase, enabling efficient reconstruction of the state vector. Cirq already implements this through the ```cirq.sim.StabilizerChFormSimulationState```.\n",
    "\n",
    "We then provide the ```bgls.utils.cirq_stabilizer_ch_bitstring_probability(state, str)``` function to compute the probability of measuring such a state in a given computational-basis bitstring:"
   ]
  },
  {
   "cell_type": "code",
   "execution_count": 3,
   "metadata": {},
   "outputs": [],
   "source": [
    "qubits = cirq.LineQubit.range(3)\n",
    "# create a stabilizer state trivially in the computational-basis state \"101\" i.e. 5 in base-10:\n",
    "ch_stab_state = cirq.StabilizerChFormSimulationState(qubits=qubits, initial_state=5)\n",
    "# we are then certain to measure this bitstring from the state\n",
    "assert bgls.cirq_stabilizer_ch_bitstring_probability(ch_stab_state, \"101\") == 1"
   ]
  },
  {
   "cell_type": "code",
   "execution_count": null,
   "metadata": {},
   "outputs": [],
   "source": []
  }
 ],
 "metadata": {
  "kernelspec": {
   "display_name": "Python 3",
   "language": "python",
   "name": "python3"
  },
  "language_info": {
   "codemirror_mode": {
    "name": "ipython",
    "version": 3
   },
   "file_extension": ".py",
   "mimetype": "text/x-python",
   "name": "python",
   "nbconvert_exporter": "python",
   "pygments_lexer": "ipython3",
   "version": "3.11.0"
  },
  "orig_nbformat": 4
 },
 "nbformat": 4,
 "nbformat_minor": 2
}
