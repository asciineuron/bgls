{
 "cells": [
  {
   "cell_type": "markdown",
   "metadata": {},
   "source": [
    "# How `BGLS` works"
   ]
  },
  {
   "cell_type": "markdown",
   "metadata": {},
   "source": [
    "Here we describe how the gate-by-gate sampling algorithm introduced in *How to simulate quantum measurement without computing marginals ([Phys. Rev. Lett.](https://journals.aps.org/prl/abstract/10.1103/PhysRevLett.128.220503)) ([arXiv](https://arxiv.org/abs/2112.08499))* (hereafter [1]) works."
   ]
  },
  {
   "cell_type": "code",
   "execution_count": 1,
   "metadata": {},
   "outputs": [],
   "source": [
    "\"\"\"Setup.\"\"\"\n",
    "import itertools\n",
    "\n",
    "import matplotlib.pyplot as plt\n",
    "import numpy as np\n",
    "import cirq"
   ]
  },
  {
   "cell_type": "markdown",
   "metadata": {},
   "source": [
    "Consider the following three-qubit GHZ circuit."
   ]
  },
  {
   "cell_type": "code",
   "execution_count": 2,
   "metadata": {},
   "outputs": [
    {
     "data": {
      "text/html": [
       "<pre style=\"overflow: auto; white-space: pre;\">0: ───H───@───────\n",
       "          │\n",
       "1: ───────X───@───\n",
       "              │\n",
       "2: ───────────X───</pre>"
      ],
      "text/plain": [
       "0: ───H───@───────\n",
       "          │\n",
       "1: ───────X───@───\n",
       "              │\n",
       "2: ───────────X───"
      ]
     },
     "execution_count": 2,
     "metadata": {},
     "output_type": "execute_result"
    }
   ],
   "source": [
    "\"\"\"Create a three-qubit GHZ circuit.\"\"\"\n",
    "nqubits = 3\n",
    "qubits = cirq.LineQubit.range(nqubits)\n",
    "\n",
    "circuit = cirq.Circuit(\n",
    "    cirq.H.on(qubits[0]),\n",
    "    [cirq.CNOT.on(qubits[i], qubits[i + 1]) for i in range(nqubits - 1)]\n",
    ")\n",
    "circuit"
   ]
  },
  {
   "cell_type": "markdown",
   "metadata": {},
   "source": [
    "## Qubit-by-qubit sampling"
   ]
  },
  {
   "cell_type": "markdown",
   "metadata": {},
   "source": [
    "The \"usual\" way to sample from this circuit is to \n",
    "\n",
    "1. Compute the final wavefunction $|\\psi\\rangle = (|000\\rangle + |111\\rangle) / \\sqrt{2}$.\n",
    "1. Sample a bit $b_1$ from the probability distribution of the first qubit.\n",
    "1. Sample a bit $b_2$ from the probability distribution of the second qubit conditional on the first qubit being in the state $|b_1\\rangle$.\n",
    "1. Sample a bit $b_3$ from the probability distribution of the third qubit condition on the first two qubits being in the state $|b_1 b_2 \\rangle$.\n",
    "\n",
    "Following [1], we refer to this algorithm as *qubit-by-qubit* sampling since it iterates over qubits. We can implement this for our example circuit as follows.\n"
   ]
  },
  {
   "cell_type": "code",
   "execution_count": 3,
   "metadata": {},
   "outputs": [
    {
     "name": "stdout",
     "output_type": "stream",
     "text": [
      "Sampled bitstring: 000\n"
     ]
    }
   ],
   "source": [
    "\"\"\"Implement qubit-by-qubit sampling for the example circuit.\"\"\"\n",
    "bits = [0, 1]\n",
    "\n",
    "psi = circuit.final_state_vector()\n",
    "rho = np.outer(psi, psi.conj()).reshape([2] * 2 * nqubits)\n",
    "\n",
    "rho0 = cirq.partial_trace(rho, keep_indices=[0])\n",
    "bit0 = np.random.choice(bits, p=np.diag(rho0).real / np.sum(np.diag(rho0).real))\n",
    "\n",
    "rho1 = cirq.partial_trace(rho, keep_indices=[0, 1])[bit0, bit0]\n",
    "bit1 = np.random.choice(bits, p=np.diag(rho1).real / np.sum(np.diag(rho1).real))\n",
    "\n",
    "rho2 = rho[bit0, bit0][bit1, bit1]\n",
    "bit2 = np.random.choice(bits, p=np.diag(rho2).real / np.sum(np.diag(rho2).real))\n",
    "\n",
    "print(\"Sampled bitstring:\", \"\".join([str(b) for b in (bit0, bit1, bit2)]))"
   ]
  },
  {
   "cell_type": "markdown",
   "metadata": {},
   "source": [
    "## Gate-by-gate sampling"
   ]
  },
  {
   "cell_type": "markdown",
   "metadata": {},
   "source": [
    "In contrast, the `BGLS` sampling algorithm iterates over gates and updates the bitstring after each application of a gate. Because it iterates over gates, it's referred to as \"gate-by-gate\" sampling. Check out the following video for a visual walkthrough of the algorithm."
   ]
  },
  {
   "cell_type": "markdown",
   "metadata": {},
   "source": [
    "### Video explainer"
   ]
  },
  {
   "cell_type": "code",
   "execution_count": 4,
   "metadata": {},
   "outputs": [
    {
     "data": {
      "image/jpeg": "[encoded data removed]",
      "text/html": [
       "\n",
       "        <iframe\n",
       "            width=\"640\"\n",
       "            height=\"360\"\n",
       "            src=\"https://www.youtube.com/embed/bkp96JijQKU\"\n",
       "            frameborder=\"0\"\n",
       "            allowfullscreen\n",
       "            \n",
       "        ></iframe>\n",
       "        "
      ],
      "text/plain": [
       "<IPython.lib.display.YouTubeVideo at 0x7fa723633df0>"
      ]
     },
     "execution_count": 4,
     "metadata": {},
     "output_type": "execute_result"
    }
   ],
   "source": [
    "from IPython.display import YouTubeVideo\n",
    "\n",
    "YouTubeVideo(\"bkp96JijQKU\", width=640, height=360)"
   ]
  },
  {
   "cell_type": "markdown",
   "metadata": {},
   "source": [
    "### Discussion and example"
   ]
  },
  {
   "cell_type": "markdown",
   "metadata": {},
   "source": [
    "As shown in the video, the `BGLS` gate-by-gate sampling approach iterates over each gate in the circuit, and for each gate (1) updates the wavefunction $|\\psi\\rangle$ and (2) updates the bitstring $b$. After all gates we have a final bitstring to return - no need to compute marginal distributions. \n",
    "\n",
    "We start with $|\\psi\\rangle = |0\\rangle ^ {\\otimes n}$ and $b = 0 ^ n$, shown below."
   ]
  },
  {
   "cell_type": "code",
   "execution_count": 5,
   "metadata": {},
   "outputs": [
    {
     "name": "stdout",
     "output_type": "stream",
     "text": [
      "Initial bitstring: ['0', '0', '0']\n",
      "Initial wavefunction: [1.+0.j 0.+0.j 0.+0.j 0.+0.j 0.+0.j 0.+0.j 0.+0.j 0.+0.j]\n"
     ]
    }
   ],
   "source": [
    "\"\"\"Initialize the wavefunction and bitstring for the BGLS gate-by-gate sampling algorithm.\"\"\"\n",
    "bitstring = [\"0\"] * nqubits\n",
    "state = cirq.StateVectorSimulationState(qubits=qubits, initial_state=0)\n",
    "\n",
    "print(\"Initial bitstring:\", bitstring)\n",
    "print(\"Initial wavefunction:\", state.target_tensor.reshape(2 ** nqubits))"
   ]
  },
  {
   "cell_type": "markdown",
   "metadata": {},
   "source": [
    "Now we start looping through gates in the circuit. Below we grab the first gate and determine its support."
   ]
  },
  {
   "cell_type": "code",
   "execution_count": 6,
   "metadata": {},
   "outputs": [
    {
     "name": "stdout",
     "output_type": "stream",
     "text": [
      "Gate is: H(q(0))\n",
      "Support is: {0}\n"
     ]
    }
   ],
   "source": [
    "\"\"\"Grab the first gate and determine its support.\"\"\"\n",
    "op = list(circuit.all_operations())[0]\n",
    "print(\"Gate is:\", op)\n",
    "\n",
    "qubit_to_index = {q: i for i, q in enumerate(qubits)}\n",
    "support = {qubit_to_index[q] for q in op.qubits}\n",
    "print(\"Support is:\", support)"
   ]
  },
  {
   "cell_type": "markdown",
   "metadata": {},
   "source": [
    "The support of the gate determines which bits in the bitstring we update. Since the support is the 0th qubit, we update the 0th bit. As in the above video, you can think about placing a \"wildcard\" (?) on each bit in the support of the gate, where the wildcard ? is either $0$ or $1$. In Python, we can iterate the new candidate bitstrings as follows."
   ]
  },
  {
   "cell_type": "code",
   "execution_count": 7,
   "metadata": {},
   "outputs": [
    {
     "name": "stdout",
     "output_type": "stream",
     "text": [
      "[('0', '0', '0'), ('1', '0', '0')]\n"
     ]
    }
   ],
   "source": [
    "\"\"\"Iterate the new candidate bitstrings.\"\"\"\n",
    "candidate_bitstrings = list(itertools.product(\n",
    "    *[[\"0\", \"1\"] if i in support else [b] \n",
    "      for i, b in enumerate(bitstring)]\n",
    "))\n",
    "print(candidate_bitstrings)"
   ]
  },
  {
   "cell_type": "markdown",
   "metadata": {},
   "source": [
    "Now we determine which of the candidate bitstrings to choose by computing amplitudes (which are squared to get probabilities) of the updated wavefunction. Using a state vector simulator, we can update the wavefunction with `cirq.protocols.act_on` and compute amplitudes by simply indexing the wavefunction."
   ]
  },
  {
   "cell_type": "code",
   "execution_count": 8,
   "metadata": {},
   "outputs": [
    {
     "name": "stdout",
     "output_type": "stream",
     "text": [
      "Bitstring is now: ('1', '0', '0')\n"
     ]
    }
   ],
   "source": [
    "\"\"\"Update the bitstring to one of the candidate bitstrings.\"\"\"\n",
    "cirq.protocols.act_on(op, state)\n",
    "\n",
    "probs = [abs(state.target_tensor.reshape(2 ** nqubits)[int(\"\".join(b), 2)]) ** 2 for b in candidate_bitstrings]\n",
    "\n",
    "index = np.random.choice(range(len(candidate_bitstrings)), p=probs / sum(probs))\n",
    "bitstring = candidate_bitstrings[index]\n",
    "\n",
    "print(\"Bitstring is now:\", bitstring)"
   ]
  },
  {
   "cell_type": "markdown",
   "metadata": {},
   "source": [
    "### Putting it all together"
   ]
  },
  {
   "cell_type": "markdown",
   "metadata": {},
   "source": [
    "Now that we've implemented one step, we can put this in a loop over all operations as in the following function."
   ]
  },
  {
   "cell_type": "code",
   "execution_count": 9,
   "metadata": {},
   "outputs": [],
   "source": [
    "def sample(circuit: cirq.Circuit) -> str:\n",
    "    qubits = circuit.all_qubits()\n",
    "\n",
    "    bitstring = [\"0\"] * nqubits\n",
    "    state = cirq.StateVectorSimulationState(qubits=qubits, initial_state=0)\n",
    "\n",
    "    qubit_to_index = {q: i for i, q in enumerate(qubits)}\n",
    "    for op in circuit.all_operations():\n",
    "        # Determine the candidate bitstrings to sample.\n",
    "        support = {qubit_to_index[q] for q in op.qubits}\n",
    "        candidate_bitstrings = list(itertools.product(\n",
    "            *[[\"0\", \"1\"] if i in support else [b] \n",
    "            for i, b in enumerate(bitstring)]\n",
    "        ))\n",
    "\n",
    "        # Compute probability of each candidate bitstring.\n",
    "        cirq.protocols.act_on(op, state)\n",
    "        probs = [abs(state.target_tensor.reshape(2 ** nqubits)[int(\"\".join(b), 2)]) ** 2 for b in candidate_bitstrings]\n",
    "\n",
    "        # Sample from the candidate bitstrings and update the bitstring.\n",
    "        index = np.random.choice(range(len(candidate_bitstrings)), p=probs / sum(probs))\n",
    "        bitstring = candidate_bitstrings[index]\n",
    "\n",
    "    return \"\".join(bitstring)"
   ]
  },
  {
   "cell_type": "markdown",
   "metadata": {},
   "source": [
    "This is the core of the `bgls.Simulator`! We can check it produces the expected distribution by sampling many times. For an inductive proof of the algorithm's correctness, see [1]."
   ]
  },
  {
   "cell_type": "code",
   "execution_count": 10,
   "metadata": {},
   "outputs": [
    {
     "data": {
      "image/png": "[encoded data removed]",
      "text/plain": [
       "<Figure size 640x480 with 1 Axes>"
      ]
     },
     "metadata": {},
     "output_type": "display_data"
    }
   ],
   "source": [
    "samples = [sample(circuit) for _ in range(1000)]\n",
    "\n",
    "plt.bar(*np.unique(samples, return_counts=True), align=\"center\")\n",
    "plt.xlabel(\"Bitstring\")\n",
    "plt.ylabel(\"Count\");"
   ]
  },
  {
   "cell_type": "markdown",
   "metadata": {},
   "source": [
    "## References"
   ]
  },
  {
   "cell_type": "markdown",
   "metadata": {},
   "source": [
    "[1] *How to simulate quantum measurement without computing marginals ([Phys. Rev. Lett.](https://journals.aps.org/prl/abstract/10.1103/PhysRevLett.128.220503)) ([arXiv](https://arxiv.org/abs/2112.08499))*"
   ]
  }
 ],
 "metadata": {
  "kernelspec": {
   "display_name": "envbgls",
   "language": "python",
   "name": "python3"
  },
  "language_info": {
   "codemirror_mode": {
    "name": "ipython",
    "version": 3
   },
   "file_extension": ".py",
   "mimetype": "text/x-python",
   "name": "python",
   "nbconvert_exporter": "python",
   "pygments_lexer": "ipython3",
   "version": "3.10.6"
  },
  "orig_nbformat": 4
 },
 "nbformat": 4,
 "nbformat_minor": 2
}
