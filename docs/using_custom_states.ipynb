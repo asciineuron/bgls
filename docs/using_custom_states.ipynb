{
 "cells": [
  {
   "cell_type": "markdown",
   "metadata": {},
   "source": [
    "# Using custom states with `BGLS`"
   ]
  },
  {
   "cell_type": "markdown",
   "metadata": {},
   "source": [
    "As mentioned in the [Getting started guide](start.ipynb), you can use `BGLS` with any representations of quantum states, so long as you specify how to `apply_gate`s and `compute_probability` from these states. Here we show an example of this using a custom `StateVector`."
   ]
  },
  {
   "cell_type": "markdown",
   "metadata": {},
   "source": [
    "## Setup"
   ]
  },
  {
   "cell_type": "code",
   "execution_count": 1,
   "metadata": {},
   "outputs": [],
   "source": [
    "\"\"\"Setup.\"\"\"\n",
    "import itertools\n",
    "from typing import Iterable, List\n",
    "\n",
    "import numpy as np\n",
    "import cirq\n",
    "\n",
    "import bgls"
   ]
  },
  {
   "cell_type": "markdown",
   "metadata": {},
   "source": [
    "## Defining a custom state"
   ]
  },
  {
   "cell_type": "markdown",
   "metadata": {},
   "source": [
    "First we create a custom quantum state type to use with `BGLS`, here a simple class for a state vector."
   ]
  },
  {
   "cell_type": "code",
   "execution_count": 2,
   "metadata": {},
   "outputs": [],
   "source": [
    "\"\"\"Define a custom quantum state representation to use with BGLS.\"\"\"\n",
    "class StateVector:\n",
    "    \"\"\"Representation of a state vector.\"\"\"\n",
    "    def __init__(self, num_qubits: int) -> None:\n",
    "        \"\"\"Initialize a StateVector.\n",
    "        \n",
    "        Args:\n",
    "            num_qubits: Number of qubits in the state.\n",
    "        \"\"\"\n",
    "        self.num_qubits = num_qubits\n",
    "        self.vector = np.zeros(2**num_qubits, dtype=complex)\n",
    "        self.vector[0] = 1. + 0.j\n",
    "    \n",
    "    def copy(self) -> \"StateVector\":\n",
    "        \"\"\"Returns a copy of the StateVector.\"\"\"\n",
    "        new_state = StateVector(self.num_qubits)\n",
    "        new_state.vector = np.copy(self.vector)\n",
    "        return new_state"
   ]
  },
  {
   "cell_type": "markdown",
   "metadata": {},
   "source": [
    "> Note: The `copy` method is required to use with `BGLS`."
   ]
  },
  {
   "cell_type": "markdown",
   "metadata": {},
   "source": [
    "For example, we can instantiate and use this class as follows."
   ]
  },
  {
   "cell_type": "code",
   "execution_count": 3,
   "metadata": {},
   "outputs": [
    {
     "data": {
      "text/plain": [
       "array([1.+0.j, 0.+0.j, 0.+0.j, 0.+0.j])"
      ]
     },
     "execution_count": 3,
     "metadata": {},
     "output_type": "execute_result"
    }
   ],
   "source": [
    "state = StateVector(num_qubits=2)\n",
    "state.vector"
   ]
  },
  {
   "cell_type": "markdown",
   "metadata": {},
   "source": [
    "## Defining how to `apply_gate`s"
   ]
  },
  {
   "cell_type": "markdown",
   "metadata": {},
   "source": [
    "After defining a state, we need to be able to apply gates to it. Below we do this using matrix multiplication, first assuming matrices and vectors and then for Cirq operations acting on our `StateVector` above."
   ]
  },
  {
   "cell_type": "markdown",
   "metadata": {},
   "source": [
    "> Note: The details of how to apply matrix gates aren't the important takeaway here, but rather how to plug this into `BGLS`. So, this cell can be safely skimmed. When defining your own `apply_gate` function, you'd write the equivalent of the following cell."
   ]
  },
  {
   "cell_type": "code",
   "execution_count": 4,
   "metadata": {},
   "outputs": [],
   "source": [
    "def apply_matrix_gate(gate: np.ndarray, target_bits: List[int], state: np.ndarray) -> None:\n",
    "    \"\"\"Applies a matrix gate to a state.\n",
    "    \n",
    "    Args:\n",
    "        gate: The matrix of the gate to apply.\n",
    "        target_bits: The (qu)bits the gate acts on.\n",
    "        state: Wavefunction as a numpy array.\n",
    "    \"\"\"\n",
    "    target_bits = target_bits[::-1]\n",
    "    # target_bits is a list of q qubit indices the q-bit gate is applied to\n",
    "    n = state.size # for n qubits this is 2**n\n",
    "    q = len(target_bits)\n",
    "    # flag whether we have worked on a given index already\n",
    "    already_applied = np.zeros(n, dtype=int)\n",
    "    for l in range(n):\n",
    "        if already_applied[l]:\n",
    "            continue\n",
    "        subspace_indices = [l]\n",
    "        for combo in powerset(target_bits):\n",
    "            # eg [i0], [i1], [i0, i1], etc., one of these lists\n",
    "            if combo: # ignore the empty element\n",
    "                tempidx = l\n",
    "                for bit in combo:\n",
    "                    tempidx = flip_bit(tempidx, bit)\n",
    "                subspace_indices.append(tempidx)\n",
    "\n",
    "        apply_gate_to_subspace(gate, state, np.asarray(subspace_indices))\n",
    "        for idx in subspace_indices:\n",
    "            already_applied[idx] = 1\n",
    "\n",
    "\n",
    "# Helper functions for above.\n",
    "def apply_gate_to_subspace(gate: np.ndarray, state: np.ndarray, indices: np.ndarray) -> None:\n",
    "    \"\"\"Applies a matrix gate to a subspace.\n",
    "\n",
    "    Args:\n",
    "        gate: 2^q x 2^q numpy matrix, complex valued\n",
    "        state: 2^n numpy array, complex valued\n",
    "        indices: numpy array, integer valued, should be 2^q items in list\n",
    "    \"\"\"\n",
    "    assert(indices.size == gate.shape[1])\n",
    "    subspace = state[indices]\n",
    "    output = gate.dot(subspace)\n",
    "    state[indices] = output\n",
    "\n",
    "\n",
    "def powerset(iterable: Iterable) -> itertools.chain:\n",
    "    \"\"\"Returns the powerset of an iterable.\"\"\"\n",
    "    s = list(iterable)\n",
    "    return itertools.chain.from_iterable(itertools.combinations(s, r) for r in range(len(s)+1))\n",
    "\n",
    "\n",
    "def flip_bit(index: int, bit_to_flip: int) -> int:\n",
    "    \"\"\"Returns an integer equal to `index` but with the `i`th bit of index flipped,\n",
    "    where `i` is `bit_to_flip`.\n",
    "\n",
    "    Args:\n",
    "        index: Integer to flip a bit of.\n",
    "        bit_to_flip: Index of the bit in `index` to flip.\n",
    "    \"\"\"\n",
    "    return index ^ (1 << bit_to_flip)"
   ]
  },
  {
   "cell_type": "markdown",
   "metadata": {},
   "source": [
    "We can check that `apply_matrix_gate` works as intended for a simple Bell state preparation circuit."
   ]
  },
  {
   "cell_type": "code",
   "execution_count": 5,
   "metadata": {},
   "outputs": [
    {
     "name": "stdout",
     "output_type": "stream",
     "text": [
      "StateVector after H:\t [0.70710678+0.j 0.70710678+0.j 0.        +0.j 0.        +0.j]\n",
      "StateVector after CNOT:\t [0.70710678+0.j 0.        +0.j 0.        +0.j 0.70710678+0.j]\n"
     ]
    }
   ],
   "source": [
    "apply_matrix_gate(cirq.unitary(cirq.H), target_bits=[0], state=state.vector)\n",
    "print(\"StateVector after H:\\t\", state.vector)\n",
    "\n",
    "apply_matrix_gate(cirq.unitary(cirq.CNOT), target_bits=[0, 1], state=state.vector)\n",
    "print(\"StateVector after CNOT:\\t\", state.vector)"
   ]
  },
  {
   "cell_type": "markdown",
   "metadata": {},
   "source": [
    "Now we format this for `BGLS` as follows."
   ]
  },
  {
   "cell_type": "code",
   "execution_count": 6,
   "metadata": {},
   "outputs": [],
   "source": [
    "def apply_gate(op: cirq.Operation, state: StateVector):\n",
    "    \"\"\"Applies the operation to the state, updating the state in place.\n",
    "    \n",
    "    Args:\n",
    "        op: Operation to apply to the wavefunction.\n",
    "        state: Wavefunction to apply the op to.\n",
    "    \"\"\"\n",
    "    apply_matrix_gate(\n",
    "        cirq.unitary(op.gate), \n",
    "        [q.x for q in sorted(op.qubits)], \n",
    "        state.vector\n",
    "    )"
   ]
  },
  {
   "cell_type": "markdown",
   "metadata": {},
   "source": [
    "## Defining how to `compute_probability`"
   ]
  },
  {
   "cell_type": "markdown",
   "metadata": {},
   "source": [
    "Last, we need to be able to compute the probability of any bitstring for the given state. We do this for the `StateVector` below by indexing."
   ]
  },
  {
   "cell_type": "code",
   "execution_count": 7,
   "metadata": {},
   "outputs": [],
   "source": [
    "def compute_probability(state: StateVector, bitstring: str):\n",
    "    \"\"\"Returns the probability of samplign the bitstring in the given state.\n",
    "    \n",
    "    Args:\n",
    "        state: A \n",
    "        bitstring: \n",
    "    \"\"\"\n",
    "    return np.abs(state.vector[int(bitstring[::-1], 2)])**2"
   ]
  },
  {
   "cell_type": "markdown",
   "metadata": {},
   "source": [
    "## Using with `BGLS`"
   ]
  },
  {
   "cell_type": "markdown",
   "metadata": {},
   "source": [
    "We can now use `BGLS` with our custom `StateVector` state, `apply_gate` function, and `compute_probability` function."
   ]
  },
  {
   "cell_type": "code",
   "execution_count": 8,
   "metadata": {},
   "outputs": [
    {
     "name": "stderr",
     "output_type": "stream",
     "text": [
      "/home/ryan/prof/work/bgls/envbgls/lib/python3.10/site-packages/cirq/vis/state_histogram.py:103: UserWarning: Matplotlib is currently using module://matplotlib_inline.backend_inline, which is a non-GUI backend, so cannot show the figure.\n",
      "  fig.show()\n"
     ]
    },
    {
     "data": {
      "image/png": "[encoded data removed]",
      "text/plain": [
       "<Figure size 640x480 with 1 Axes>"
      ]
     },
     "metadata": {},
     "output_type": "display_data"
    }
   ],
   "source": [
    "\"\"\"Using the custom state with BGLS.\"\"\"\n",
    "# Example circuit to run.\n",
    "a, b = cirq.LineQubit.range(2)\n",
    "circuit = cirq.Circuit(\n",
    "    cirq.H.on(a),\n",
    "    cirq.CNOT.on(a, b),\n",
    "    cirq.measure(a, b, key=\"z\"),\n",
    ")\n",
    "\n",
    "# Create a BGLS simulator with the custom state.\n",
    "sim = bgls.Simulator(\n",
    "    initial_state=StateVector(num_qubits=2),\n",
    "    apply_gate=apply_gate,\n",
    "    compute_probability=compute_probability\n",
    ")\n",
    "\n",
    "# Run the circuit.\n",
    "results = sim.run(circuit, repetitions=1000)\n",
    "_ = cirq.plot_state_histogram(results)"
   ]
  },
  {
   "cell_type": "markdown",
   "metadata": {},
   "source": [
    "Note the returned results are formatted as usual for any Cirq circuit and the custom simulator supports all features supported by `BGLS`."
   ]
  }
 ],
 "metadata": {
  "kernelspec": {
   "display_name": "quimb_test",
   "language": "python",
   "name": "python3"
  },
  "language_info": {
   "codemirror_mode": {
    "name": "ipython",
    "version": 3
   },
   "file_extension": ".py",
   "mimetype": "text/x-python",
   "name": "python",
   "nbconvert_exporter": "python",
   "pygments_lexer": "ipython3",
   "version": "3.10.12"
  },
  "orig_nbformat": 4
 },
 "nbformat": 4,
 "nbformat_minor": 2
}
