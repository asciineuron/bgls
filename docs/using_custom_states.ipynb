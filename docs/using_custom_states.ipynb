{
 "cells": [
  {
   "cell_type": "markdown",
   "metadata": {},
   "source": [
    "# Using custom states with `BGLS`"
   ]
  },
  {
   "cell_type": "markdown",
   "metadata": {},
   "source": [
    "As mentioned in the [Getting started guide](start.ipynb), you can use `BGLS` with any representations of quantum states, so long as you specify how to `apply_gate`s and `compute_probability` from these states. Here we show an example of this using a custom `StateVector`."
   ]
  },
  {
   "cell_type": "markdown",
   "metadata": {},
   "source": [
    "## Setup"
   ]
  },
  {
   "cell_type": "code",
   "execution_count": 30,
   "metadata": {},
   "outputs": [],
   "source": [
    "\"\"\"Setup.\"\"\"\n",
    "import itertools\n",
    "from typing import List\n",
    "\n",
    "import numpy as np\n",
    "import cirq\n",
    "\n",
    "import bgls"
   ]
  },
  {
   "cell_type": "markdown",
   "metadata": {},
   "source": [
    "## Defining a custom state"
   ]
  },
  {
   "cell_type": "markdown",
   "metadata": {},
   "source": [
    "First we create a custom quantum state type to use with `BGLS`, here a simple class for a state vector."
   ]
  },
  {
   "cell_type": "code",
   "execution_count": 31,
   "metadata": {},
   "outputs": [],
   "source": [
    "\"\"\"Define a custom quantum state representation to use with BGLS.\"\"\"\n",
    "class StateVector:\n",
    "    \"\"\"Representation of a statevector.\"\"\"\n",
    "    def __init__(self, num_qubits: int) -> None:\n",
    "        \"\"\"Initialize a StateVector.\n",
    "        \n",
    "        Args:\n",
    "            num_qubits: Number of qubits in the state.\n",
    "        \"\"\"\n",
    "        self.num_qubits = num_qubits\n",
    "        self.vector = np.zeros(2**num_qubits, dtype=complex)\n",
    "        self.vector[0] = 1. + 0.j\n",
    "    \n",
    "    def copy(self) -> \"StateVector\":\n",
    "        \"\"\"Returns a copy of the StateVector.\"\"\"\n",
    "        new_state = StateVector(self.num_qubits)\n",
    "        new_state.vector = np.copy(self.vector)\n",
    "        return new_state"
   ]
  },
  {
   "cell_type": "markdown",
   "metadata": {},
   "source": [
    "> Note: The `copy` method is required to use with `BGLS`."
   ]
  },
  {
   "cell_type": "markdown",
   "metadata": {},
   "source": [
    "For example, we can instantiate and use this class as follows."
   ]
  },
  {
   "cell_type": "code",
   "execution_count": 32,
   "metadata": {},
   "outputs": [
    {
     "data": {
      "text/plain": [
       "array([1.+0.j, 0.+0.j, 0.+0.j, 0.+0.j])"
      ]
     },
     "execution_count": 32,
     "metadata": {},
     "output_type": "execute_result"
    }
   ],
   "source": [
    "state = StateVector(num_qubits=2)\n",
    "state.vector"
   ]
  },
  {
   "cell_type": "markdown",
   "metadata": {},
   "source": [
    "## Defining how to `apply_gate`s"
   ]
  },
  {
   "cell_type": "markdown",
   "metadata": {},
   "source": [
    "After defining a state, we need to be able to apply gates to it. Below we do this using matrix multiplication, first assuming matrices and vectors and then for Cirq operations acting on our `StateVector` above."
   ]
  },
  {
   "cell_type": "code",
   "execution_count": 33,
   "metadata": {},
   "outputs": [],
   "source": [
    "def apply_matrix_gate(gate:np.ndarray, target_bits:List[int], state:np.ndarray):\n",
    "    target_bits = target_bits[::-1]\n",
    "    # target_bits is a list of q qubit indices the q-bit gate is applied to\n",
    "    n = state.size # for n qubits this is 2**n\n",
    "    q = len(target_bits)\n",
    "    # flag whether we have worked on a given index already\n",
    "    already_applied = np.zeros(n, dtype=int)\n",
    "    for l in range(n):\n",
    "        if already_applied[l]:\n",
    "            continue\n",
    "        subspace_indices = [l]\n",
    "        for combo in powerset(target_bits):\n",
    "            # eg [i0], [i1], [i0, i1], etc., one of these lists\n",
    "            if combo: # ignore the empty element\n",
    "                tempidx = l\n",
    "                for bit in combo:\n",
    "                    tempidx = flip_bit(tempidx, bit)\n",
    "                subspace_indices.append(tempidx)\n",
    "\n",
    "        apply_gate_to_subspace(gate, state, np.asarray(subspace_indices))\n",
    "        for idx in subspace_indices:\n",
    "            already_applied[idx] = 1\n",
    "\n",
    "\n",
    "# Helper functions for above.\n",
    "def apply_gate_to_subspace(gate:np.ndarray, state:np.ndarray, indices:np.ndarray):\n",
    "    # gate: 2^qx2^q numpy matrix, complex valued\n",
    "    # state: 2^n numpy array, complex valued\n",
    "    # indices: numpy array, integer valued, should be 2^q items in list\n",
    "    assert(indices.size == gate.shape[1])\n",
    "    subspace = state[indices]\n",
    "    output = gate.dot(subspace)\n",
    "    state[indices] = output\n",
    "\n",
    "\n",
    "def powerset(iterable):\n",
    "    \"\"\"Returns the powerset of an iterable.\"\"\"\n",
    "    s = list(iterable)\n",
    "    return itertools.chain.from_iterable(itertools.combinations(s, r) for r in range(len(s)+1))\n",
    "\n",
    "\n",
    "def flip_bit(index, bit_to_flip):\n",
    "    return index ^ (1 << bit_to_flip)"
   ]
  },
  {
   "cell_type": "markdown",
   "metadata": {},
   "source": []
  },
  {
   "cell_type": "code",
   "execution_count": 34,
   "metadata": {},
   "outputs": [
    {
     "name": "stdout",
     "output_type": "stream",
     "text": [
      "StateVector after H:\t [0.70710678+0.j 0.70710678+0.j 0.        +0.j 0.        +0.j]\n",
      "StateVector after CNOT:\t [0.70710678+0.j 0.        +0.j 0.        +0.j 0.70710678+0.j]\n"
     ]
    }
   ],
   "source": [
    "apply_matrix_gate(cirq.unitary(cirq.H), target_bits=[0], state=state.vector)\n",
    "print(\"StateVector after H:\\t\", state.vector)\n",
    "\n",
    "apply_matrix_gate(cirq.unitary(cirq.CNOT), target_bits=[0, 1], state=state.vector)\n",
    "print(\"StateVector after CNOT:\\t\", state.vector)"
   ]
  },
  {
   "cell_type": "markdown",
   "metadata": {},
   "source": [
    "Now we format this for `BGLS` as follows."
   ]
  },
  {
   "cell_type": "code",
   "execution_count": 35,
   "metadata": {},
   "outputs": [],
   "source": [
    "def apply_gate(op: cirq.Operation, state: StateVector):\n",
    "    apply_matrix_gate(\n",
    "        cirq.unitary(op.gate), \n",
    "        [q.x for q in sorted(op.qubits)], \n",
    "        state.vector\n",
    "    )"
   ]
  },
  {
   "cell_type": "markdown",
   "metadata": {},
   "source": [
    "## Defining how to `compute_probability`"
   ]
  },
  {
   "cell_type": "markdown",
   "metadata": {},
   "source": [
    "Last, we need to be able to compute the probability of any bitstring for the given state. We do this for the `StateVector` below by indexing."
   ]
  },
  {
   "cell_type": "code",
   "execution_count": 36,
   "metadata": {},
   "outputs": [],
   "source": [
    "def compute_probability(state: StateVector, bitstring: str):\n",
    "    rev_bitstr = bitstring[::-1]\n",
    "    return np.abs(state.vector[int(rev_bitstr, 2)])**2"
   ]
  },
  {
   "cell_type": "markdown",
   "metadata": {},
   "source": [
    "## Using with `BGLS`"
   ]
  },
  {
   "cell_type": "code",
   "execution_count": 37,
   "metadata": {},
   "outputs": [
    {
     "data": {
      "text/html": [
       "<pre style=\"overflow: auto; white-space: pre;\">0: ───H───@───M(&#x27;z&#x27;)───\n",
       "          │   │\n",
       "1: ───────X───M────────</pre>"
      ],
      "text/plain": [
       "0: ───H───@───M('z')───\n",
       "          │   │\n",
       "1: ───────X───M────────"
      ]
     },
     "execution_count": 37,
     "metadata": {},
     "output_type": "execute_result"
    }
   ],
   "source": [
    "a, b = cirq.LineQubit.range(2)\n",
    "circuit = cirq.Circuit(\n",
    "    cirq.H.on(a),\n",
    "    cirq.CNOT.on(a, b),\n",
    "    cirq.measure(a, b, key=\"z\"),\n",
    ")\n",
    "circuit"
   ]
  },
  {
   "cell_type": "code",
   "execution_count": 38,
   "metadata": {},
   "outputs": [
    {
     "name": "stderr",
     "output_type": "stream",
     "text": [
      "c:\\Users\\Alex_\\miniconda3\\envs\\quimb_test\\lib\\site-packages\\cirq\\vis\\state_histogram.py:103: UserWarning: Matplotlib is currently using module://matplotlib_inline.backend_inline, which is a non-GUI backend, so cannot show the figure.\n",
      "  fig.show()\n"
     ]
    },
    {
     "data": {
      "image/png": "[encoded data removed]",
      "text/plain": [
       "<Figure size 640x480 with 1 Axes>"
      ]
     },
     "metadata": {},
     "output_type": "display_data"
    }
   ],
   "source": [
    "sim = bgls.Simulator(\n",
    "    initial_state=StateVector(num_qubits=2),\n",
    "    apply_gate=apply_gate,\n",
    "    compute_probability=compute_probability\n",
    ")\n",
    "\n",
    "results = sim.run(circuit, repetitions=1000)\n",
    "_ = cirq.plot_state_histogram(results)"
   ]
  },
  {
   "cell_type": "markdown",
   "metadata": {},
   "source": []
  }
 ],
 "metadata": {
  "kernelspec": {
   "display_name": "quimb_test",
   "language": "python",
   "name": "python3"
  },
  "language_info": {
   "codemirror_mode": {
    "name": "ipython",
    "version": 3
   },
   "file_extension": ".py",
   "mimetype": "text/x-python",
   "name": "python",
   "nbconvert_exporter": "python",
   "pygments_lexer": "ipython3",
   "version": "3.10.0"
  },
  "orig_nbformat": 4
 },
 "nbformat": 4,
 "nbformat_minor": 2
}
