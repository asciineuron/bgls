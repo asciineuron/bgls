{
 "cells": [
  {
   "cell_type": "markdown",
   "metadata": {},
   "source": [
    "# Features"
   ]
  },
  {
   "cell_type": "markdown",
   "metadata": {},
   "source": [
    "`BGLS` supports several useful features when simulating circuits, described below."
   ]
  },
  {
   "cell_type": "code",
   "execution_count": 1,
   "metadata": {},
   "outputs": [],
   "source": [
    "\"\"\"Setup.\"\"\"\n",
    "import cirq\n",
    "\n",
    "import bgls"
   ]
  },
  {
   "cell_type": "markdown",
   "metadata": {},
   "source": [
    "## Accessing final states"
   ]
  },
  {
   "cell_type": "markdown",
   "metadata": {},
   "source": [
    "While measurement results (samples) are returned, final states are stored and can be accessed from `bgls.Simulator.final_states` as below."
   ]
  },
  {
   "cell_type": "code",
   "execution_count": 2,
   "metadata": {},
   "outputs": [
    {
     "name": "stdout",
     "output_type": "stream",
     "text": [
      "Results: z=1111111100, 1111111100\n",
      "Final state: 0.71|00⟩ + 0.71|11⟩\n"
     ]
    }
   ],
   "source": [
    "a, b = cirq.LineQubit.range(2)\n",
    "\n",
    "circuit = cirq.Circuit(\n",
    "    cirq.H.on(a),\n",
    "    cirq.CNOT.on(a, b),\n",
    "    cirq.measure(a, b, key=\"z\"),\n",
    ")\n",
    "\n",
    "sim = bgls.Simulator(\n",
    "    initial_state=cirq.StateVectorSimulationState(\n",
    "        qubits=(a, b), initial_state=0\n",
    "    ),\n",
    "    apply_op=cirq.protocols.act_on,\n",
    "    compute_probability=bgls.born.compute_probability_state_vector,\n",
    ")\n",
    "results = sim.run(circuit, repetitions=10)\n",
    "print(\"Results:\", results)\n",
    "\n",
    "final_state = sim.final_states[0]\n",
    "print(\"Final state:\", cirq.dirac_notation(final_state.target_tensor.flatten()))"
   ]
  },
  {
   "cell_type": "markdown",
   "metadata": {},
   "source": [
    "Note that here, although we sampled multiple times, there is only one final state."
   ]
  },
  {
   "cell_type": "code",
   "execution_count": 3,
   "metadata": {},
   "outputs": [
    {
     "data": {
      "text/plain": [
       "1"
      ]
     },
     "execution_count": 3,
     "metadata": {},
     "output_type": "execute_result"
    }
   ],
   "source": [
    "len(sim.final_states)"
   ]
  },
  {
   "cell_type": "markdown",
   "metadata": {},
   "source": [
    "This is because `BGLS` samples all bitstrings in parallel for unitary circuits. For circuits with non-unitary channels that are not terminal measurements (see below), the method of quantum trajectories is used and one bitstring is sampled per trajectory, leading to multiple final states."
   ]
  },
  {
   "cell_type": "markdown",
   "metadata": {},
   "source": [
    "Final state history can be reset as follows."
   ]
  },
  {
   "cell_type": "code",
   "execution_count": 4,
   "metadata": {},
   "outputs": [
    {
     "data": {
      "text/plain": [
       "[]"
      ]
     },
     "execution_count": 4,
     "metadata": {},
     "output_type": "execute_result"
    }
   ],
   "source": [
    "sim.clear_final_states()\n",
    "sim.final_states"
   ]
  },
  {
   "cell_type": "markdown",
   "metadata": {},
   "source": [
    "## Simulating noisy circuits"
   ]
  },
  {
   "cell_type": "markdown",
   "metadata": {},
   "source": [
    "If your `apply_op` function can apply channels, you can use `BGLS` to simulate noisy circuits through quantum trajectores. An example using `cirq.protocols.act_on`, which can apply channels, is shown below."
   ]
  },
  {
   "cell_type": "code",
   "execution_count": 5,
   "metadata": {},
   "outputs": [
    {
     "name": "stderr",
     "output_type": "stream",
     "text": [
      "/home/ryan/prof/work/bgls/envbgls/lib/python3.10/site-packages/cirq/vis/state_histogram.py:103: UserWarning: Matplotlib is currently using module://matplotlib_inline.backend_inline, which is a non-GUI backend, so cannot show the figure.\n",
      "  fig.show()\n"
     ]
    },
    {
     "data": {
      "image/png": "[encoded data removed]",
      "text/plain": [
       "<Figure size 640x480 with 1 Axes>"
      ]
     },
     "metadata": {},
     "output_type": "display_data"
    }
   ],
   "source": [
    "a, b = cirq.LineQubit.range(2)\n",
    "\n",
    "circuit = cirq.Circuit(cirq.H.on(a), cirq.CNOT.on(a, b))\n",
    "noisy = circuit.with_noise(cirq.depolarize(0.05))\n",
    "\n",
    "sim = bgls.Simulator(\n",
    "    initial_state=cirq.StateVectorSimulationState(\n",
    "        qubits=(a, b), initial_state=0\n",
    "    ),\n",
    "    apply_op=cirq.protocols.act_on,\n",
    "    compute_probability=bgls.born.compute_probability_state_vector,\n",
    ")\n",
    "\n",
    "results = sim.run(noisy + cirq.measure(a, b), repetitions=100)\n",
    "cirq.plot_state_histogram(results);"
   ]
  },
  {
   "cell_type": "markdown",
   "metadata": {},
   "source": [
    "### How to modify `apply_op` to support channels"
   ]
  },
  {
   "cell_type": "markdown",
   "metadata": {},
   "source": [
    "You can modify your `apply_op` function to support channels as follows. The simplest case is when the probability of a Kraus operator does not depend on the state. In this case, you can use the `cirq.mixture` protocol to obtain `(probability, kraus_operator)` pairs as in the example below."
   ]
  },
  {
   "cell_type": "code",
   "execution_count": 6,
   "metadata": {},
   "outputs": [
    {
     "data": {
      "text/plain": [
       "((0.99,\n",
       "  array([[1., 0.],\n",
       "         [0., 1.]])),\n",
       " (0.0033333333333333335,\n",
       "  array([[0.+0.j, 1.+0.j],\n",
       "         [1.+0.j, 0.+0.j]])),\n",
       " (0.0033333333333333335,\n",
       "  array([[0.+0.j, 0.-1.j],\n",
       "         [0.+1.j, 0.+0.j]])),\n",
       " (0.0033333333333333335,\n",
       "  array([[ 1.+0.j,  0.+0.j],\n",
       "         [ 0.+0.j, -1.+0.j]])))"
      ]
     },
     "execution_count": 6,
     "metadata": {},
     "output_type": "execute_result"
    }
   ],
   "source": [
    "channel = cirq.DepolarizingChannel(p=0.01)\n",
    "\n",
    "cirq.mixture(channel)"
   ]
  },
  {
   "cell_type": "markdown",
   "metadata": {},
   "source": [
    "Now, you just need to select a Kraus operator according to the probability distribution and then apply it to the state. "
   ]
  },
  {
   "cell_type": "markdown",
   "metadata": {},
   "source": [
    "If the channel does not support the `cirq.mixture` protocol (i.e., if the probability of applying a Kraus operator depends on the state $|\\psi\\rangle$), you can still use this method by first using `cirq.kraus` to obtain the Kraus operators $K_i$ of the channel, then computing the probability of applying each channel via $p_i = \\langle \\psi | K_i^\\dagger K_i |\\psi\\rangle$. "
   ]
  },
  {
   "cell_type": "markdown",
   "metadata": {},
   "source": [
    "> Note: For noiseless simulation, `BGLS` updates all bitstrings in parallel via one evolution of the state. This isn't possible in quantum trajectories because many different states are generated, so you should expect noisy simulation to be slower."
   ]
  },
  {
   "cell_type": "markdown",
   "metadata": {},
   "source": [
    "## Simulating circuits with intermediate measurements"
   ]
  },
  {
   "cell_type": "markdown",
   "metadata": {},
   "source": [
    "In the same manner described above, `BGLS` can simulate circuits with intermediate measurements if `apply_op` supports channels."
   ]
  },
  {
   "cell_type": "code",
   "execution_count": 7,
   "metadata": {},
   "outputs": [
    {
     "name": "stderr",
     "output_type": "stream",
     "text": [
      "/home/ryan/prof/work/bgls/envbgls/lib/python3.10/site-packages/cirq/vis/state_histogram.py:103: UserWarning: Matplotlib is currently using module://matplotlib_inline.backend_inline, which is a non-GUI backend, so cannot show the figure.\n",
      "  fig.show()\n"
     ]
    },
    {
     "data": {
      "image/png": "[encoded data removed]",
      "text/plain": [
       "<Figure size 640x480 with 1 Axes>"
      ]
     },
     "metadata": {},
     "output_type": "display_data"
    }
   ],
   "source": [
    "a, b = cirq.LineQubit.range(2)\n",
    "\n",
    "circuit = cirq.Circuit(\n",
    "    cirq.H.on(a),\n",
    "    cirq.measure(a),  # <-- Intermediate measurement.\n",
    "    cirq.CNOT.on(a, b),\n",
    "    cirq.measure(a, b),\n",
    ")\n",
    "\n",
    "sim.clear_final_states()\n",
    "results = sim.run(circuit, repetitions=10)\n",
    "cirq.plot_state_histogram(results);"
   ]
  },
  {
   "cell_type": "markdown",
   "metadata": {},
   "source": [
    "Here the final states are $|00\\rangle$ or $|11\\rangle$ with equal probability."
   ]
  },
  {
   "cell_type": "code",
   "execution_count": 8,
   "metadata": {},
   "outputs": [
    {
     "name": "stdout",
     "output_type": "stream",
     "text": [
      "Final state: |11⟩\n",
      "Final state: |00⟩\n",
      "Final state: |11⟩\n",
      "Final state: |11⟩\n",
      "Final state: |00⟩\n",
      "Final state: |11⟩\n",
      "Final state: |00⟩\n",
      "Final state: |00⟩\n",
      "Final state: |00⟩\n",
      "Final state: |11⟩\n"
     ]
    }
   ],
   "source": [
    "for final_state in sim.final_states:\n",
    "    print(f\"Final state:\", cirq.dirac_notation(final_state.target_tensor.flatten()))"
   ]
  },
  {
   "cell_type": "markdown",
   "metadata": {},
   "source": [
    "## Can I use `BGLS` with Qiskit / Pennylane / etc.?"
   ]
  },
  {
   "cell_type": "markdown",
   "metadata": {},
   "source": [
    "The only accepted circuit type for `BGLS` is `cirq.Circuit`, but you can convert most popular circuit types to and from Cirq. For example, if you have a Qiskit circuit specified by the following Qasm string:"
   ]
  },
  {
   "cell_type": "code",
   "execution_count": 9,
   "metadata": {},
   "outputs": [],
   "source": [
    "qasm = \"\"\"\n",
    "OPENQASM 2.0;\n",
    "include \"qelib1.inc\";\n",
    "\n",
    "qreg q[2];\n",
    "\n",
    "h q[0];\n",
    "cx q[0],q[1];\"\"\""
   ]
  },
  {
   "cell_type": "markdown",
   "metadata": {},
   "source": [
    "You can convert this to a Cirq circuit as follows."
   ]
  },
  {
   "cell_type": "code",
   "execution_count": 10,
   "metadata": {},
   "outputs": [
    {
     "data": {
      "text/html": [
       "<pre style=\"overflow: auto; white-space: pre;\">q_0: ───H───@───\n",
       "            │\n",
       "q_1: ───────X───</pre>"
      ],
      "text/plain": [
       "q_0: ───H───@───\n",
       "            │\n",
       "q_1: ───────X───"
      ]
     },
     "execution_count": 10,
     "metadata": {},
     "output_type": "execute_result"
    }
   ],
   "source": [
    "from cirq.contrib.qasm_import import circuit_from_qasm\n",
    "\n",
    "circuit_from_qasm(qasm)"
   ]
  },
  {
   "cell_type": "markdown",
   "metadata": {},
   "source": [
    "This circuit can now be used with `BGLS`."
   ]
  }
 ],
 "metadata": {
  "kernelspec": {
   "display_name": "envbgls",
   "language": "python",
   "name": "envbgls"
  },
  "language_info": {
   "codemirror_mode": {
    "name": "ipython",
    "version": 3
   },
   "file_extension": ".py",
   "mimetype": "text/x-python",
   "name": "python",
   "nbconvert_exporter": "python",
   "pygments_lexer": "ipython3",
   "version": "3.10.12"
  },
  "orig_nbformat": 4
 },
 "nbformat": 4,
 "nbformat_minor": 2
}
